{
  "cells": [
    {
      "cell_type": "markdown",
      "metadata": {
        "id": "view-in-github",
        "colab_type": "text"
      },
      "source": [
        "<a href=\"https://colab.research.google.com/github/Sri485/INFO5731/blob/main/INFO5731_Assignment_One_fall_2022_srikanth.ipynb\" target=\"_parent\"><img src=\"https://colab.research.google.com/assets/colab-badge.svg\" alt=\"Open In Colab\"/></a>"
      ]
    },
    {
      "cell_type": "markdown",
      "metadata": {
        "id": "Ryk8D1Q4Wsrp"
      },
      "source": [
        "# **INFO5731 Assignment One**"
      ]
    },
    {
      "cell_type": "markdown",
      "metadata": {
        "id": "90_NR8c5XGWc"
      },
      "source": [
        "# Question 1\n",
        "\n",
        "(20 points). Write a Python program to generate 12 random numbers between 1 and 100. Sort the list of numbers in ascending order and print it out. Sort the list of numbers in descending order and print it out. Calculate the average for the group and print it out."
      ]
    },
    {
      "cell_type": "code",
      "execution_count": 6,
      "metadata": {
        "colab": {
          "base_uri": "https://localhost:8080/"
        },
        "id": "5QX6bJjGWXY9",
        "outputId": "851b4446-18fd-4776-e1ec-5f46fbb928d5"
      },
      "outputs": [
        {
          "output_type": "stream",
          "name": "stdout",
          "text": [
            "asc order of the list [3, 5, 16, 18, 27, 32, 43, 45, 46, 58, 62, 81]\n",
            "des order of the list [81, 62, 58, 46, 45, 43, 32, 27, 18, 16, 5, 3]\n",
            "Avg of List 36.333333333333336\n"
          ]
        }
      ],
      "source": [
        "\n",
        "import random \n",
        "list1 = []\n",
        "while(len(list1) < 12):\n",
        "  \n",
        "    Z = random.randint(1, 100)\n",
        "    \n",
        "    if(Z in list1):\n",
        "        list1.remove(Z)\n",
        "    else:\n",
        "        list1.append(Z)\n",
        "list1.sort()\n",
        "print(\"asc order of the list\",list1)\n",
        "list1.sort(reverse=True)\n",
        "print(\"des order of the list\",list1)\n",
        "print(\"Avg of List\", sum(list1)/len(list1))\n"
      ]
    },
    {
      "cell_type": "markdown",
      "metadata": {
        "id": "1F_PZdH9Sh49"
      },
      "source": [
        "# Question 2\n",
        "(25 points). Write a program that will do the following string formatting tasks:\n",
        "\n",
        "(1) Ask the user to enter two sentences.\n",
        "\n",
        "(2) Make each sentence into a list. Each element in the list should correspond to a word in the sentence. For example, if the sentence is \"Alas! Am I alive? This is my first python program\", the program should print out ['Alas, '!', 'Am', 'I', 'alive, '?', 'This', 'is', 'my', 'first', 'python', 'program'].\n",
        "\n",
        "(3) Compare the two sentences. Print out a list of words that occur in both sentences.\n",
        "\n",
        "(4) Remove any punctuation from the sentence and print it back out. It should remove at least the following characters, but it can remove more: period(“.”), comma (“,”), semicolon (“;”), and colon (“:”)\n",
        "\n",
        "(5) Count the number of vowels in the sentences. Print out each vowel and the number of times it appears in the sentences, such as: a:2, e:1, i:0, etc"
      ]
    },
    {
      "cell_type": "code",
      "execution_count": 19,
      "metadata": {
        "colab": {
          "base_uri": "https://localhost:8080/"
        },
        "id": "Y0oOSlsOS0cq",
        "outputId": "3e8d5562-7c61-4b94-a629-a735554bebaf"
      },
      "outputs": [
        {
          "output_type": "stream",
          "name": "stdout",
          "text": [
            "Give the sentence 1:- 'Alas, '!', 'Am', 'I', 'alive, '?'\n",
            "Give the sentence 2:- This', 'is', 'my', 'first', 'python', 'program'\n",
            "[\"'\", 'alas', ',', \"'\", '!', \"'\", ',', \"'\", 'am', \"'\", ',', \"'\", 'i', \"'\", ',', \"'\", 'alive', ',', \"'\", '?', \"'\"] ['this', \"'\", ',', \"'\", 'is', \"'\", ',', \"'\", 'my', \"'\", ',', \"'\", 'first', \"'\", ',', \"'\", 'python', \"'\", ',', \"'\", 'program', \"'\"]\n",
            "sentence without punctuation: -  alas am ' i ' , ' alive , ' '\n",
            "sentence without punctuation: -   this , is , my , first , python , program\n",
            "vowels count in words:-  [('a', 4), ('e', 1), ('i', 2), ('o', 0), ('u', 0)]\n",
            "vowels count in words:-  [('a', 1), ('e', 0), ('i', 3), ('o', 2), ('u', 0)]\n"
          ]
        }
      ],
      "source": [
        "import re\n",
        "sentence_1 = input(\"Give the sentence 1:- \")\n",
        "sentence_2 = input(\"Give the sentence 2:- \")\n",
        "sentence_1 = sentence_1.casefold()\n",
        "sentence_2 = sentence_2.casefold()\n",
        "sentence_1_lis = re.findall(r\"[\\w]+|[^\\s\\w]\",sentence_1)\n",
        "sentence_2_lis = re.findall(r\"[\\w]+|[^\\s\\w]\",sentence_2)\n",
        "def sameWords(sentence_1_lis,sentence_2_lis):\n",
        "    for i in sentence_1_lis:\n",
        "        lis = []\n",
        "        lis.extend(i)\n",
        "        if(i in sentence_2_lis and (ord(lis[0])<33 or ord(lis[0])>64)):\n",
        "            print(\"common words :-  \",i,\"\\n\")\n",
        "#remove punctuation using checking the ascii value\n",
        "def removeSetPun(sentence_1_lis):\n",
        "    for i in sentence_1_lis:\n",
        "        lis = []\n",
        "        lis.extend(i)\n",
        "        if(ord(lis[0])>=33 and ord(lis[0])<=64):\n",
        "            sentence_1_lis.remove(i)\n",
        "        stri = \" \".join(sentence_1_lis)\n",
        "    return stri\n",
        "#counting the vowles\n",
        "def countVowels(lis):\n",
        "    vowels = 'aeiou'\n",
        "    lis = lis.casefold()\n",
        "    count = {}.fromkeys(vowels,0)\n",
        "    for character in lis:\n",
        "       if character in count:\n",
        "           count[character] += 1\n",
        "    print(\"vowels count in words:- \",sorted(count.items()))\n",
        "print(sentence_1_lis,sentence_2_lis)\n",
        "sameWords(sentence_1_lis,sentence_2_lis)\n",
        "print(\"sentence without punctuation: - \",removeSetPun(sentence_1_lis))\n",
        "print(\"sentence without punctuation: -  \",removeSetPun(sentence_2_lis))\n",
        "countVowels(sentence_1)\n",
        "countVowels(sentence_2)"
      ]
    },
    {
      "cell_type": "markdown",
      "metadata": {
        "id": "CmFoI4jDS9nx"
      },
      "source": [
        "# Question 3 \n",
        "\n",
        "(15 points). The formula that describes the volume V of a sphere with radius r is the following:\n",
        "\n",
        "$ V=\\frac{4}{3}\\ast\\ \\pi\\ast\\ r^3 $\n",
        "\n",
        "Write a program to calculate the value of V when r is in the range of 1–10. Output the result in the following format:\n",
        "\n",
        "\tr\tV\n",
        "\t1\t…\n",
        "\t2\t…\n",
        "\t3\t…\n"
      ]
    },
    {
      "cell_type": "code",
      "execution_count": 30,
      "metadata": {
        "colab": {
          "base_uri": "https://localhost:8080/"
        },
        "id": "pEyqeioAT95b",
        "outputId": "77062316-e6f4-41cf-e9d3-3fc010b3864b"
      },
      "outputs": [
        {
          "output_type": "stream",
          "name": "stdout",
          "text": [
            "1   4.19 \n",
            "\n",
            "2   33.49 \n",
            "\n",
            "3   113.04 \n",
            "\n",
            "4   267.95 \n",
            "\n",
            "5   523.33 \n",
            "\n",
            "6   904.32 \n",
            "\n",
            "7   1436.03 \n",
            "\n",
            "8   2143.57 \n",
            "\n",
            "9   3052.08 \n",
            "\n",
            "10   4186.67 \n",
            "\n"
          ]
        }
      ],
      "source": [
        "for i in range(1,11):\n",
        "    v = 4/3 * 3.14*i*i*i\n",
        "    v=\"{:.2f}\".format(v)\n",
        "    print(i,\" \",v,\"\\n\")\n",
        "\n"
      ]
    },
    {
      "cell_type": "markdown",
      "metadata": {
        "id": "z3tBE7E-Xn5X"
      },
      "source": [
        "# Question 4\n",
        "\n",
        "(40 points). In the field of Data Science, data is often formatted as a comma-delimited (CSV) file, where each line in a file corresponds to a field's value. Refer to Chapter 9 (p. 106) for more information on comma-delimited files. To answer this question, you will need to download the file [Assignment1_denton_housing.csv](https://raw.githubusercontent.com/unt-iialab/info5731-spring2022/main/assignments/Assignment1_denton_housing.csv) included with this assignment. The file [Assignment1_denton_housing.csv](https://raw.githubusercontent.com/unt-iialab/info5731-spring2022/main/assignments/Assignment1_denton_housing.csv) contains statistics about housing in the city of Denton from 2008 to 2014. Write a program to implement the following questions.\n",
        "\n",
        "(1) (10 pts) Calculate the difference in the number of Occupied Housing Units from year to year and print it. The difference must be calculated for the consecutive years such as 2008-2009, 2009-2010 etc. Finally, print the values in the ascending order.\n",
        "\n",
        "(2) (10 pts) For all the years, calculate the percentage of housing units which are vacant an occupied. Print the results in the following format:\n",
        "\n",
        "Year Vacant Housing Units Occupied Housing Units\n",
        "\n",
        "    2008  30%   70%                          \n",
        "\t2009 ----- -----\n",
        "\t2010 ----- -----\n",
        "    2011 ----- -----\n",
        "\t2012 ----- -----\n",
        "    2013 ----- -----\n",
        "\t2014 ----- -----\n",
        "  \n",
        "  \n",
        "\n",
        "(3) (10 pts) Calculate and print the valued and years in which the highest number of housing units were vacant and occupied. Print the results in the following format:  \n",
        "\n",
        "                              Year\tValue\n",
        "\tVacant Housing Units\t  -----   -----\n",
        "\tOccupied Housing Units\t-----   -----\n",
        "\n",
        "(4) (10 pts) Calculate the harmonic mean of the total housing units and print it out. You can find the information about harmonic mean here: https://ncalculators.com/statistics/harmonic-mean-calculator.htm"
      ]
    },
    {
      "cell_type": "code",
      "source": [
        "# Your code here\n",
        "from google.colab import files\n",
        "uploaded = files.upload()"
      ],
      "metadata": {
        "colab": {
          "base_uri": "https://localhost:8080/",
          "height": 73
        },
        "id": "lS5KX0pVROmH",
        "outputId": "83848499-113a-40a1-d56a-66e1dd0abf7b"
      },
      "execution_count": 70,
      "outputs": [
        {
          "output_type": "display_data",
          "data": {
            "text/plain": [
              "<IPython.core.display.HTML object>"
            ],
            "text/html": [
              "\n",
              "     <input type=\"file\" id=\"files-4bf0bb85-cdc9-4a18-8e5e-63d601d5e598\" name=\"files[]\" multiple disabled\n",
              "        style=\"border:none\" />\n",
              "     <output id=\"result-4bf0bb85-cdc9-4a18-8e5e-63d601d5e598\">\n",
              "      Upload widget is only available when the cell has been executed in the\n",
              "      current browser session. Please rerun this cell to enable.\n",
              "      </output>\n",
              "      <script>// Copyright 2017 Google LLC\n",
              "//\n",
              "// Licensed under the Apache License, Version 2.0 (the \"License\");\n",
              "// you may not use this file except in compliance with the License.\n",
              "// You may obtain a copy of the License at\n",
              "//\n",
              "//      http://www.apache.org/licenses/LICENSE-2.0\n",
              "//\n",
              "// Unless required by applicable law or agreed to in writing, software\n",
              "// distributed under the License is distributed on an \"AS IS\" BASIS,\n",
              "// WITHOUT WARRANTIES OR CONDITIONS OF ANY KIND, either express or implied.\n",
              "// See the License for the specific language governing permissions and\n",
              "// limitations under the License.\n",
              "\n",
              "/**\n",
              " * @fileoverview Helpers for google.colab Python module.\n",
              " */\n",
              "(function(scope) {\n",
              "function span(text, styleAttributes = {}) {\n",
              "  const element = document.createElement('span');\n",
              "  element.textContent = text;\n",
              "  for (const key of Object.keys(styleAttributes)) {\n",
              "    element.style[key] = styleAttributes[key];\n",
              "  }\n",
              "  return element;\n",
              "}\n",
              "\n",
              "// Max number of bytes which will be uploaded at a time.\n",
              "const MAX_PAYLOAD_SIZE = 100 * 1024;\n",
              "\n",
              "function _uploadFiles(inputId, outputId) {\n",
              "  const steps = uploadFilesStep(inputId, outputId);\n",
              "  const outputElement = document.getElementById(outputId);\n",
              "  // Cache steps on the outputElement to make it available for the next call\n",
              "  // to uploadFilesContinue from Python.\n",
              "  outputElement.steps = steps;\n",
              "\n",
              "  return _uploadFilesContinue(outputId);\n",
              "}\n",
              "\n",
              "// This is roughly an async generator (not supported in the browser yet),\n",
              "// where there are multiple asynchronous steps and the Python side is going\n",
              "// to poll for completion of each step.\n",
              "// This uses a Promise to block the python side on completion of each step,\n",
              "// then passes the result of the previous step as the input to the next step.\n",
              "function _uploadFilesContinue(outputId) {\n",
              "  const outputElement = document.getElementById(outputId);\n",
              "  const steps = outputElement.steps;\n",
              "\n",
              "  const next = steps.next(outputElement.lastPromiseValue);\n",
              "  return Promise.resolve(next.value.promise).then((value) => {\n",
              "    // Cache the last promise value to make it available to the next\n",
              "    // step of the generator.\n",
              "    outputElement.lastPromiseValue = value;\n",
              "    return next.value.response;\n",
              "  });\n",
              "}\n",
              "\n",
              "/**\n",
              " * Generator function which is called between each async step of the upload\n",
              " * process.\n",
              " * @param {string} inputId Element ID of the input file picker element.\n",
              " * @param {string} outputId Element ID of the output display.\n",
              " * @return {!Iterable<!Object>} Iterable of next steps.\n",
              " */\n",
              "function* uploadFilesStep(inputId, outputId) {\n",
              "  const inputElement = document.getElementById(inputId);\n",
              "  inputElement.disabled = false;\n",
              "\n",
              "  const outputElement = document.getElementById(outputId);\n",
              "  outputElement.innerHTML = '';\n",
              "\n",
              "  const pickedPromise = new Promise((resolve) => {\n",
              "    inputElement.addEventListener('change', (e) => {\n",
              "      resolve(e.target.files);\n",
              "    });\n",
              "  });\n",
              "\n",
              "  const cancel = document.createElement('button');\n",
              "  inputElement.parentElement.appendChild(cancel);\n",
              "  cancel.textContent = 'Cancel upload';\n",
              "  const cancelPromise = new Promise((resolve) => {\n",
              "    cancel.onclick = () => {\n",
              "      resolve(null);\n",
              "    };\n",
              "  });\n",
              "\n",
              "  // Wait for the user to pick the files.\n",
              "  const files = yield {\n",
              "    promise: Promise.race([pickedPromise, cancelPromise]),\n",
              "    response: {\n",
              "      action: 'starting',\n",
              "    }\n",
              "  };\n",
              "\n",
              "  cancel.remove();\n",
              "\n",
              "  // Disable the input element since further picks are not allowed.\n",
              "  inputElement.disabled = true;\n",
              "\n",
              "  if (!files) {\n",
              "    return {\n",
              "      response: {\n",
              "        action: 'complete',\n",
              "      }\n",
              "    };\n",
              "  }\n",
              "\n",
              "  for (const file of files) {\n",
              "    const li = document.createElement('li');\n",
              "    li.append(span(file.name, {fontWeight: 'bold'}));\n",
              "    li.append(span(\n",
              "        `(${file.type || 'n/a'}) - ${file.size} bytes, ` +\n",
              "        `last modified: ${\n",
              "            file.lastModifiedDate ? file.lastModifiedDate.toLocaleDateString() :\n",
              "                                    'n/a'} - `));\n",
              "    const percent = span('0% done');\n",
              "    li.appendChild(percent);\n",
              "\n",
              "    outputElement.appendChild(li);\n",
              "\n",
              "    const fileDataPromise = new Promise((resolve) => {\n",
              "      const reader = new FileReader();\n",
              "      reader.onload = (e) => {\n",
              "        resolve(e.target.result);\n",
              "      };\n",
              "      reader.readAsArrayBuffer(file);\n",
              "    });\n",
              "    // Wait for the data to be ready.\n",
              "    let fileData = yield {\n",
              "      promise: fileDataPromise,\n",
              "      response: {\n",
              "        action: 'continue',\n",
              "      }\n",
              "    };\n",
              "\n",
              "    // Use a chunked sending to avoid message size limits. See b/62115660.\n",
              "    let position = 0;\n",
              "    do {\n",
              "      const length = Math.min(fileData.byteLength - position, MAX_PAYLOAD_SIZE);\n",
              "      const chunk = new Uint8Array(fileData, position, length);\n",
              "      position += length;\n",
              "\n",
              "      const base64 = btoa(String.fromCharCode.apply(null, chunk));\n",
              "      yield {\n",
              "        response: {\n",
              "          action: 'append',\n",
              "          file: file.name,\n",
              "          data: base64,\n",
              "        },\n",
              "      };\n",
              "\n",
              "      let percentDone = fileData.byteLength === 0 ?\n",
              "          100 :\n",
              "          Math.round((position / fileData.byteLength) * 100);\n",
              "      percent.textContent = `${percentDone}% done`;\n",
              "\n",
              "    } while (position < fileData.byteLength);\n",
              "  }\n",
              "\n",
              "  // All done.\n",
              "  yield {\n",
              "    response: {\n",
              "      action: 'complete',\n",
              "    }\n",
              "  };\n",
              "}\n",
              "\n",
              "scope.google = scope.google || {};\n",
              "scope.google.colab = scope.google.colab || {};\n",
              "scope.google.colab._files = {\n",
              "  _uploadFiles,\n",
              "  _uploadFilesContinue,\n",
              "};\n",
              "})(self);\n",
              "</script> "
            ]
          },
          "metadata": {}
        },
        {
          "output_type": "stream",
          "name": "stdout",
          "text": [
            "Saving Assignment1_denton_housing.csv to Assignment1_denton_housing (5).csv\n"
          ]
        }
      ]
    },
    {
      "cell_type": "code",
      "source": [
        "# 1.)\n",
        "import pandas as pd\n",
        "import io\n",
        "\n",
        "data_housing = pd.read_csv(io.StringIO(uploaded['Assignment1_denton_housing.csv'].decode('utf-8')))\n",
        "result = {}\n",
        "for year in range(2008, 2014):\n",
        "  \n",
        "  result[\"{}-{}\".format(year, year+1)] = abs(data_housing[(data_housing['year'] == year) & (data_housing['title_field'] == \"Occupied Housing Units\")].values[0][2] - data_housing[(data_housing['year'] == year + 1) & (data_housing['title_field'] == \"Occupied Housing Units\")].values[0][2])\n",
        "print(\" Occupied Housing ascending order Units are: \")\n",
        "result = {R: v for R, v in sorted(result.items(), key=lambda item: item[1])}\n",
        "\n",
        "for R in result.keys():\n",
        "  print(\"{}: {}\".format(R, result[R]))"
      ],
      "metadata": {
        "colab": {
          "base_uri": "https://localhost:8080/"
        },
        "id": "vXqaDJIHReer",
        "outputId": "5ba89dc1-ca79-48dd-b99e-06128f93f552"
      },
      "execution_count": 72,
      "outputs": [
        {
          "output_type": "stream",
          "name": "stdout",
          "text": [
            " Occupied Housing ascending order Units are: \n",
            "2010-2011: 303\n",
            "2008-2009: 795\n",
            "2011-2012: 1404\n",
            "2012-2013: 1565\n",
            "2013-2014: 2622\n",
            "2009-2010: 5091\n"
          ]
        }
      ]
    },
    {
      "cell_type": "code",
      "source": [
        "# 2.)\n",
        "import pandas as pd\n",
        "per_result_1= pd.DataFrame(columns = ['Year', 'Vacant Units of houses', 'Occupied Units of houses'])\n",
        "for year in range(2008, 2015):\n",
        "  result = {}\n",
        "  result['Year'] = year\n",
        "  result['Vacant Units of houses'] = round((data_housing[(data_housing['year'] == year)]['value'].values[1]) / (data_housing[(data_housing['year'] == year)]['value'].values[0])*100, 2)\n",
        "  result['Occupied Units of houses'] = round((data_housing[(data_housing['year'] == year)]['value'].values[2]) / (data_housing[(data_housing['year'] == year)]['value'].values[0])*100, 2) \n",
        "  \n",
        "  per_result_1 = per_result_1.append(result, ignore_index=True)\n",
        "\n",
        "per_result_1['Year'] = per_result_1['Year'].astype('int64')\n",
        "\n",
        "print(per_result_1.to_string(index=False))"
      ],
      "metadata": {
        "colab": {
          "base_uri": "https://localhost:8080/"
        },
        "id": "CFGPUPBjVcDo",
        "outputId": "ab6579df-4442-4625-f1e7-b68b33b60c89"
      },
      "execution_count": 81,
      "outputs": [
        {
          "output_type": "stream",
          "name": "stdout",
          "text": [
            " Year  Vacant Units of houses  Occupied Units of houses\n",
            " 2008                   10.88                     89.12\n",
            " 2009                    9.07                     90.93\n",
            " 2010                    8.14                     91.86\n",
            " 2011                    9.38                     90.62\n",
            " 2012                    6.68                     93.32\n",
            " 2013                    8.80                     91.20\n",
            " 2014                    5.73                     94.27\n"
          ]
        }
      ]
    },
    {
      "cell_type": "code",
      "source": [
        "housing_data1 = pd.DataFrame(columns=['Units','Year', 'Value'])\n",
        "for units in ['Vacant Housing Units', \"Occupied Housing Units\"]:\n",
        "  result = {}\n",
        "  result['Units'] = units\n",
        " \n",
        "  result['Value'] = data_housing[data_housing['title_field'] == units].max()[2]\n",
        "  result['Year'] = data_housing[(data_housing['title_field'] == units) & (data_housing['value'] == result['Value'])]['year'].values[0]\n",
        "\n",
        "  housing_data1 = housing_data1.append(result, ignore_index=True)\n",
        "\n",
        "housing_data1.rename(columns = {'Units':\"\", 'Year': \"Year\", \"Value\": \"Value\"}, inplace = True)\n",
        "\n",
        "print(housing_data1.to_string(index = False))"
      ],
      "metadata": {
        "colab": {
          "base_uri": "https://localhost:8080/"
        },
        "id": "CPAaAfYFXKoL",
        "outputId": "20c07cd9-3101-46d8-a7a2-6dfac76f17dd"
      },
      "execution_count": 96,
      "outputs": [
        {
          "output_type": "stream",
          "name": "stdout",
          "text": [
            "                       Year Value\n",
            "  Vacant Housing Units 2008  4483\n",
            "Occupied Housing Units 2014 46295\n"
          ]
        }
      ]
    },
    {
      "cell_type": "code",
      "source": [
        "# 4.)\n",
        "from statistics import harmonic_mean\n",
        "print(\"The Housing Units Harmonic mean total is: \",harmonic_mean(data_housing[data_housing['title_field'] == 'Total Housing Units']['value']))"
      ],
      "metadata": {
        "colab": {
          "base_uri": "https://localhost:8080/"
        },
        "id": "-dB0v0T3XuR4",
        "outputId": "b43920aa-ce59-407e-dab7-bd82ae03e117"
      },
      "execution_count": 102,
      "outputs": [
        {
          "output_type": "stream",
          "name": "stdout",
          "text": [
            "The Housing Units Harmonic mean total is:  44398.28543969185\n"
          ]
        }
      ]
    }
  ],
  "metadata": {
    "colab": {
      "collapsed_sections": [],
      "provenance": [],
      "include_colab_link": true
    },
    "kernelspec": {
      "display_name": "Python 3 (ipykernel)",
      "language": "python",
      "name": "python3"
    },
    "language_info": {
      "codemirror_mode": {
        "name": "ipython",
        "version": 3
      },
      "file_extension": ".py",
      "mimetype": "text/x-python",
      "name": "python",
      "nbconvert_exporter": "python",
      "pygments_lexer": "ipython3",
      "version": "3.9.12"
    }
  },
  "nbformat": 4,
  "nbformat_minor": 0
}