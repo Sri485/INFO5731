{
  "cells": [
    {
      "cell_type": "markdown",
      "metadata": {
        "id": "view-in-github",
        "colab_type": "text"
      },
      "source": [
        "<a href=\"https://colab.research.google.com/github/Sri485/INFO5731/blob/main/Srikanth_In_class_exercise_01_09072022_(2).ipynb\" target=\"_parent\"><img src=\"https://colab.research.google.com/assets/colab-badge.svg\" alt=\"Open In Colab\"/></a>"
      ]
    },
    {
      "cell_type": "markdown",
      "metadata": {
        "id": "DymRJbxDBCnf"
      },
      "source": [
        "# **The first In-class-exercise (09/07/2022, 40 points in total)**"
      ]
    },
    {
      "cell_type": "markdown",
      "metadata": {
        "id": "03jb4GZsBkBS"
      },
      "source": [
        "(1) Write a Python program to calculate the length of a string. (4 points)"
      ]
    },
    {
      "cell_type": "code",
      "execution_count": null,
      "metadata": {
        "colab": {
          "base_uri": "https://localhost:8080/"
        },
        "id": "YaGLbSHHB8Ej",
        "outputId": "31f118c0-f86e-418e-dba0-9d666a69bce4"
      },
      "outputs": [
        {
          "output_type": "stream",
          "name": "stdout",
          "text": [
            "string entered: Data Science\n",
            "Here the Length of the given string is: 12\n"
          ]
        }
      ],
      "source": [
        "#Enter a string\n",
        "str = input(\"string entered: \")\n",
        "counter = 0\n",
        "for s in str:\n",
        "      counter = counter+1\n",
        "print(\"Here the Length of the given string is:\", counter)\n"
      ]
    },
    {
      "cell_type": "markdown",
      "metadata": {
        "id": "jJDe71iLB616"
      },
      "source": [
        "(2) Write a Python program to count the number of characters in a string. (4 points)\n",
        "\n",
        "Sample String : 'google.com‘, \n",
        "\n",
        "Expected Result : {'o': 3, 'g': 2, '.': 1, 'e': 1, 'l': 1, 'm': 1, 'c': 1}"
      ]
    },
    {
      "cell_type": "code",
      "execution_count": null,
      "metadata": {
        "colab": {
          "base_uri": "https://localhost:8080/"
        },
        "id": "MtKskTzbCLaU",
        "outputId": "31167d14-9111-466d-e69a-6858277370dd"
      },
      "outputs": [
        {
          "output_type": "stream",
          "name": "stdout",
          "text": [
            "Enter a String: Google.com\n",
            "Counter({'o': 3, 'G': 1, 'g': 1, 'l': 1, 'e': 1, '.': 1, 'c': 1, 'm': 1})\n"
          ]
        }
      ],
      "source": [
        "\n",
        "import collections\n",
        "def char_count():\n",
        "  #string to be entered\n",
        "    r = input('Enter a String: ') \n",
        "    #counts the string characters\n",
        "    return collections.Counter(list(r))\n",
        "    #prints the characters\n",
        "print(char_count())\n"
      ]
    },
    {
      "cell_type": "markdown",
      "metadata": {
        "id": "55W9AMdXCSpV"
      },
      "source": [
        "(3) Write a Python program to sum all the items in a list. (4 points)"
      ]
    },
    {
      "cell_type": "code",
      "execution_count": null,
      "metadata": {
        "colab": {
          "base_uri": "https://localhost:8080/"
        },
        "id": "I57NXsauCec2",
        "outputId": "a9f8f7ff-ac3a-424d-e140-2b77742f5e4a"
      },
      "outputs": [
        {
          "output_type": "stream",
          "name": "stdout",
          "text": [
            "Here the sum of the all items is : 176\n"
          ]
        }
      ],
      "source": [
        "\n",
        "inputList = [14,31,22,27,39,43]\n",
        "sum = 0\n",
        "for number in inputList:\n",
        "  sum = sum + number\n",
        "#sum of the items is printed\n",
        "print(\"Here the sum of the all items is : {}\".format(sum))\n"
      ]
    },
    {
      "cell_type": "markdown",
      "metadata": {
        "id": "4ulBZ6yhCi9F"
      },
      "source": [
        "(4) Write a Python program to get a string from a given string where all occurrences of its first char have been changed to '\\$', except the first char itself. (4 points)\n",
        "\n",
        "Sample String : 'restart‘, \n",
        "\n",
        "Expected Result : 'resta\\$t'"
      ]
    },
    {
      "cell_type": "code",
      "source": [
        "input_str = \"restart\"\n",
        "print(\"\".join((input_str[0], input_str[1:].replace(input_str[0], \"$\"))))"
      ],
      "metadata": {
        "colab": {
          "base_uri": "https://localhost:8080/"
        },
        "id": "8-EjbN0qIJa-",
        "outputId": "cad9faf2-eb32-4489-c17f-e009071272de"
      },
      "execution_count": null,
      "outputs": [
        {
          "output_type": "stream",
          "name": "stdout",
          "text": [
            "resta$t\n"
          ]
        }
      ]
    },
    {
      "cell_type": "markdown",
      "metadata": {
        "id": "_bIP7s1MCzue"
      },
      "source": [
        "(5) Write a program with python which could accept two parameter a and b to calculate and output the result of S, where \n",
        "\n",
        "$\\ S=3.14*(1+a/b)^3$ (4 points)\n",
        "\n"
      ]
    },
    {
      "cell_type": "code",
      "execution_count": null,
      "metadata": {
        "colab": {
          "base_uri": "https://localhost:8080/"
        },
        "id": "w79QilHXD3Mg",
        "outputId": "a1bda55e-1953-4f00-9b4d-411654d7880b"
      },
      "outputs": [
        {
          "output_type": "stream",
          "name": "stdout",
          "text": [
            "a value to be entered:4\n",
            " b value to be entered:5\n",
            " s value obtained is:  18.312480000000004\n"
          ]
        }
      ],
      "source": [
        "#Entered the value of \"a\"\n",
        "a = float(input('a value to be entered:'))\n",
        "#Entered the value of \"b\"\n",
        "b = float(input(' b value to be entered:'))\n",
        "#the formula used to calculate \n",
        "s = 3.14*(1+a/b)**3\n",
        "print(' s value obtained is: ',s)\n",
        "\n"
      ]
    },
    {
      "cell_type": "markdown",
      "metadata": {
        "id": "xCa2bK9aD4Q3"
      },
      "source": [
        "(6) Write a Python program to concatenate following dictionaries to create a new one. (4 points)\n",
        "\n",
        "Sample Dictionary : dic1={1:10, 2:20}, dic2={3:30, 4:40}, dic3={5:50,6:60}, \n",
        "\n",
        "Expected Result : {1: 10, 2: 20, 3: 30, 4: 40, 5: 50, 6: 60}\n"
      ]
    },
    {
      "cell_type": "code",
      "execution_count": null,
      "metadata": {
        "colab": {
          "base_uri": "https://localhost:8080/"
        },
        "id": "_z4aLqAbEET1",
        "outputId": "4bc9b47f-679c-46bb-f8a2-7781dd10fb2e"
      },
      "outputs": [
        {
          "output_type": "stream",
          "name": "stdout",
          "text": [
            "{1: 10, 2: 20, 3: 30, 4: 40, 5: 50, 6: 60}\n"
          ]
        }
      ],
      "source": [
        "#Concentrated dictionaries\n",
        "dicy_1={1:10, 2:20}\n",
        "dicy_2={3:30, 4:40}\n",
        "dicy_3={5:50,6:60}\n",
        "dicy_4 = {}\n",
        "for r in (dicy_1, dicy_2, dicy_3): dicy_4.update(r)\n",
        "print(dicy_4)\n"
      ]
    },
    {
      "cell_type": "markdown",
      "metadata": {
        "id": "0v48Vqa7FrQh"
      },
      "source": [
        "(7) Write a Python program to check whether an element exists within a tuple. (4 points)"
      ]
    },
    {
      "cell_type": "code",
      "execution_count": null,
      "metadata": {
        "colab": {
          "base_uri": "https://localhost:8080/"
        },
        "id": "7WEmgq-DF2P1",
        "outputId": "19d028f0-0326-4ed1-873f-13920ce34e25"
      },
      "outputs": [
        {
          "output_type": "stream",
          "name": "stdout",
          "text": [
            "Enter any element that you want to search in the tuple: Data\n",
            "The element is not in the tuple!!!\n"
          ]
        }
      ],
      "source": [
        "tuple_sample = (\"Machine Learning\", \"Booming Concepts\")\n",
        "elements = input(\"Enter any element that you want to search in the tuple: \")\n",
        "if elements in tuple_sample:\n",
        "  print(\"The elements is in the tuple!!!\")\n",
        "else:\n",
        "  print(\"The elements is not in the tuple!!!\")\n"
      ]
    },
    {
      "cell_type": "markdown",
      "metadata": {
        "id": "vD5PYLMuGga_"
      },
      "source": [
        "(8) Write a Python program to find maximum and the minimum value in a set. (4 points)"
      ]
    },
    {
      "cell_type": "code",
      "execution_count": null,
      "metadata": {
        "colab": {
          "base_uri": "https://localhost:8080/"
        },
        "id": "t0D5kdJUGjjw",
        "outputId": "96668cf3-d7ea-4e50-d104-c6af60499a52"
      },
      "outputs": [
        {
          "output_type": "stream",
          "name": "stdout",
          "text": [
            "Max values in a given set: 74\n",
            "Min values in a given set: 11\n"
          ]
        }
      ],
      "source": [
        "from typing import Set\n",
        "set = {45, 65, 34, 74, 33, 11}\n",
        "#prints both the Max and Min values from the given set of numbers\n",
        "print(\"Max values in a given set:\" , max(set))\n",
        "print(\"Min values in a given set:\", min(set))"
      ]
    },
    {
      "cell_type": "markdown",
      "metadata": {
        "id": "uHkd-y5VhVWC"
      },
      "source": [
        "(9) Write a Python program to randomly divide the students in this class into six groups for term projects, each group should have at least 4 students but no more than 6 students (including 6). Here is the students list: (4 points)\n",
        "\n",
        "studnet_list = ['ja0964','sa1198','sb1357','vb0218','sc1229','kg0569','kg0470','sg1297','bg0320','fh0141','jl1252','sk1386',\n",
        "           'ak0956','sk1390','sk1458','sk1313','ak0934','vm0377','nm0618','sm1640','sm1907','gn0108','pr0353','dr0609','ms1500','aos0040','ds0814', 'av0659','nv0234','hy0232']"
      ]
    },
    {
      "cell_type": "code",
      "source": [
        "import random\n",
        "#Entered the students list \n",
        "studnet_list = ['ja0964','sa1198','sb1357','vb0218','sc1229','kg0569','kg0470','sg1297','bg0320','fh0141','jl1252','sk1386', 'ak0956','sk1390','sk1458','sk1313',\n",
        "                'ak0934','vm0377','nm0618','sm1640',\n",
        "                'sm1907','gn0108','pr0353','dr0609','ms1500','aos0040','ds0814', 'av0659','nv0234','hy0232']\n",
        "def partition(student_list, n): \n",
        "    divide = len(student_list) / float(n) \n",
        "    return [ student_list[int(round(divide * i)): int(round(divide * (i + 1)))] for i in range(n) ]\n",
        "partition(studnet_list,12)"
      ],
      "metadata": {
        "colab": {
          "base_uri": "https://localhost:8080/"
        },
        "id": "vt-aKscgJzGh",
        "outputId": "f23b9a5c-a948-425f-f2ea-dae606d75340"
      },
      "execution_count": null,
      "outputs": [
        {
          "output_type": "execute_result",
          "data": {
            "text/plain": [
              "[['ja0964', 'sa1198'],\n",
              " ['sb1357', 'vb0218', 'sc1229'],\n",
              " ['kg0569', 'kg0470', 'sg1297'],\n",
              " ['bg0320', 'fh0141'],\n",
              " ['jl1252', 'sk1386'],\n",
              " ['ak0956', 'sk1390', 'sk1458'],\n",
              " ['sk1313', 'ak0934', 'vm0377'],\n",
              " ['nm0618', 'sm1640'],\n",
              " ['sm1907', 'gn0108'],\n",
              " ['pr0353', 'dr0609', 'ms1500'],\n",
              " ['aos0040', 'ds0814', 'av0659'],\n",
              " ['nv0234', 'hy0232']]"
            ]
          },
          "metadata": {},
          "execution_count": 71
        }
      ]
    },
    {
      "cell_type": "markdown",
      "metadata": {
        "id": "bXp0qt1VGsbK"
      },
      "source": [
        "(10) Write a Python program to find the duplicate elements in a given array of integers. Return -1 If there are no such elements. (4 points)"
      ]
    },
    {
      "cell_type": "code",
      "source": [
        "#Finding the repeated elements in an integer set\n",
        "def Repeat(r):\n",
        "  #length is defined\n",
        "  _size_1 = len(r) \n",
        "  repeated = []\n",
        "  for e in range(_size_1):\n",
        "    f = e + 1\n",
        "    #range is defined\n",
        "    for g in range(f, _size_1):\n",
        "      if r[e] == r[g] and r[e] not in repeated:\n",
        "         repeated.append(r[e])\n",
        "         return -1 if len(repeated) == 0 else repeated\n",
        "arrayofinteger1 = [46,87,38,2,65,4,46,28,95,105,104] \n",
        "arrayofinteger2 = [28, 45, 33, 67, 90,45, 23] \n",
        "# no duplicates so it must return -1\n",
        "arrayofinteger3 = [9, 0, 81, 78, 64]\n",
        "\n",
        "print (Repeat(arrayofinteger1))\n",
        "print (Repeat(arrayofinteger2))\n",
        "print (Repeat(arrayofinteger3))\n"
      ],
      "metadata": {
        "colab": {
          "base_uri": "https://localhost:8080/"
        },
        "id": "8-6C8mnTNwXw",
        "outputId": "8bd6f1d9-3980-491d-e98d-8ac6675b0f0a"
      },
      "execution_count": null,
      "outputs": [
        {
          "output_type": "stream",
          "name": "stdout",
          "text": [
            "[46]\n",
            "[45]\n",
            "None\n"
          ]
        }
      ]
    },
    {
      "cell_type": "markdown",
      "metadata": {
        "id": "JlMmS4ReGsbK"
      },
      "source": [
        "(11) Write a Python program to select all the Sundays of a specified year. (4 extra points)"
      ]
    },
    {
      "cell_type": "code",
      "execution_count": null,
      "metadata": {
        "colab": {
          "base_uri": "https://localhost:8080/"
        },
        "id": "rZOG3wFfGsbL",
        "outputId": "50695aea-5596-4756-fb8a-246b18e75d2b"
      },
      "outputs": [
        {
          "output_type": "stream",
          "name": "stdout",
          "text": [
            "2015-01-04\n",
            "2015-01-11\n",
            "2015-01-18\n",
            "2015-01-25\n",
            "2015-02-01\n",
            "2015-02-08\n",
            "2015-02-15\n",
            "2015-02-22\n",
            "2015-03-01\n",
            "2015-03-08\n",
            "2015-03-15\n",
            "2015-03-22\n",
            "2015-03-29\n",
            "2015-04-05\n",
            "2015-04-12\n",
            "2015-04-19\n",
            "2015-04-26\n",
            "2015-05-03\n",
            "2015-05-10\n",
            "2015-05-17\n",
            "2015-05-24\n",
            "2015-05-31\n",
            "2015-06-07\n",
            "2015-06-14\n",
            "2015-06-21\n",
            "2015-06-28\n",
            "2015-07-05\n",
            "2015-07-12\n",
            "2015-07-19\n",
            "2015-07-26\n",
            "2015-08-02\n",
            "2015-08-09\n",
            "2015-08-16\n",
            "2015-08-23\n",
            "2015-08-30\n",
            "2015-09-06\n",
            "2015-09-13\n",
            "2015-09-20\n",
            "2015-09-27\n",
            "2015-10-04\n",
            "2015-10-11\n",
            "2015-10-18\n",
            "2015-10-25\n",
            "2015-11-01\n",
            "2015-11-08\n",
            "2015-11-15\n",
            "2015-11-22\n",
            "2015-11-29\n",
            "2015-12-06\n",
            "2015-12-13\n",
            "2015-12-20\n",
            "2015-12-27\n"
          ]
        }
      ],
      "source": [
        "#from the data time line that we considered\n",
        "from datetime import date, timedelta\n",
        "#define the day and the year\n",
        "def sundays(year):\n",
        "       date1 = date(year, 1, 1)\n",
        "       date1 += timedelta(days = 6 - date1.weekday())  \n",
        "       while date1.year == year:\n",
        "          yield date1\n",
        "          date1 += timedelta(days = 7)\n",
        "          \n",
        "for sun in sundays(2015):\n",
        "   print(sun)"
      ]
    }
  ],
  "metadata": {
    "colab": {
      "collapsed_sections": [],
      "provenance": [],
      "include_colab_link": true
    },
    "kernelspec": {
      "display_name": "Python 3 (ipykernel)",
      "language": "python",
      "name": "python3"
    },
    "language_info": {
      "codemirror_mode": {
        "name": "ipython",
        "version": 3
      },
      "file_extension": ".py",
      "mimetype": "text/x-python",
      "name": "python",
      "nbconvert_exporter": "python",
      "pygments_lexer": "ipython3",
      "version": "3.9.12"
    }
  },
  "nbformat": 4,
  "nbformat_minor": 0
}